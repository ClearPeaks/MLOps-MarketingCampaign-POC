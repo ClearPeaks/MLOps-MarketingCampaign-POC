{
  "cells": [
    {
      "cell_type": "markdown",
      "source": [
        "## Testing the deployment with sample data"
      ],
      "metadata": {
        "nteract": {
          "transient": {
            "deleting": false
          }
        }
      }
    },
    {
      "cell_type": "markdown",
      "source": [
        "### Library imports"
      ],
      "metadata": {
        "nteract": {
          "transient": {
            "deleting": false
          }
        }
      }
    },
    {
      "cell_type": "code",
      "source": [
        "from azure.identity import DefaultAzureCredential          \n",
        "from azure.ai.ml import MLClient\n",
        "\n",
        "import mlflow          \n",
        "from mlflow.deployments import get_deploy_client \n",
        "\n",
        "import pandas as pd\n",
        "import numpy as np\n",
        "import json"
      ],
      "outputs": [],
      "execution_count": 2,
      "metadata": {
        "gather": {
          "logged": 1704701553065
        }
      }
    },
    {
      "cell_type": "markdown",
      "source": [
        "### Get handle to workspace"
      ],
      "metadata": {
        "nteract": {
          "transient": {
            "deleting": false
          }
        }
      }
    },
    {
      "cell_type": "code",
      "source": [
        "ml_client = MLClient(\n",
        "    DefaultAzureCredential(),\n",
        "    subscription_id=\"27a6aae6-ce60-4ae4-a06e-cfe9c1e824d4\",\n",
        "    resource_group_name=\"RG-ADA-MLOPS-POC\",\n",
        "    workspace_name=\"azu-ml-ada-mlops-poc\",\n",
        ")\n",
        "\n",
        "endpoint_name = \"MC-Prod-Endpoint-4242\"\n",
        "\n",
        "deployment_client = get_deploy_client(mlflow.get_tracking_uri())"
      ],
      "outputs": [],
      "execution_count": 5,
      "metadata": {
        "jupyter": {
          "source_hidden": false,
          "outputs_hidden": false
        },
        "nteract": {
          "transient": {
            "deleting": false
          }
        },
        "gather": {
          "logged": 1704701605023
        }
      }
    },
    {
      "cell_type": "markdown",
      "source": [
        "### Get sample data"
      ],
      "metadata": {
        "nteract": {
          "transient": {
            "deleting": false
          }
        }
      }
    },
    {
      "cell_type": "code",
      "source": [
        "data_simulation = ml_client.data.get(name=\"data_simulation\", version=2)\n",
        "\n",
        "samples = (\n",
        "    pd.read_csv(data_simulation.path, sep=\";\")\n",
        "    .dropna() # UNTIL IMPUTATION IS IMPLEMENTED IN SCORING SCRIPT\n",
        "    .sample(n=5)\n",
        "    .drop(columns=[\"Response\"])\n",
        "    .reset_index(drop=True)\n",
        ")\n",
        "\n",
        "samples"
      ],
      "outputs": [
        {
          "output_type": "execute_result",
          "execution_count": 6,
          "data": {
            "text/plain": "      ID  Year_Birth   Education Marital_Status   Income  Kidhome  Teenhome  \\\n0    375        1954  Graduation       Divorced  76773.0        0         0   \n1    922        1979    2n Cycle        Married  31086.0        1         1   \n2   8147        1960  Graduation        Married  31454.0        1         1   \n3  10675        1956         PhD        Married  66334.0        0         1   \n4   2173        1952  Graduation          Widow  40049.0        0         1   \n\n  Dt_Customer  Recency  MntWines  ...  NumStorePurchases  NumWebVisitsMonth  \\\n0  2013-02-25       79       516  ...                 11                  1   \n1  2013-05-04       79        16  ...                  2                  8   \n2  2013-07-06       40        28  ...                  3                  8   \n3  2013-04-03       82       909  ...                  5                  5   \n4  2013-10-16       23        13  ...                  3                  6   \n\n   AcceptedCmp3  AcceptedCmp4  AcceptedCmp5  AcceptedCmp1  AcceptedCmp2  \\\n0             0             0             0             0             0   \n1             1             0             0             0             0   \n2             0             0             0             0             0   \n3             0             0             0             0             0   \n4             0             0             0             0             0   \n\n   Complain  Z_CostContact  Z_Revenue  \n0         0              3         11  \n1         0              3         11  \n2         0              3         11  \n3         0              3         11  \n4         0              3         11  \n\n[5 rows x 28 columns]",
            "text/html": "<div>\n<style scoped>\n    .dataframe tbody tr th:only-of-type {\n        vertical-align: middle;\n    }\n\n    .dataframe tbody tr th {\n        vertical-align: top;\n    }\n\n    .dataframe thead th {\n        text-align: right;\n    }\n</style>\n<table border=\"1\" class=\"dataframe\">\n  <thead>\n    <tr style=\"text-align: right;\">\n      <th></th>\n      <th>ID</th>\n      <th>Year_Birth</th>\n      <th>Education</th>\n      <th>Marital_Status</th>\n      <th>Income</th>\n      <th>Kidhome</th>\n      <th>Teenhome</th>\n      <th>Dt_Customer</th>\n      <th>Recency</th>\n      <th>MntWines</th>\n      <th>...</th>\n      <th>NumStorePurchases</th>\n      <th>NumWebVisitsMonth</th>\n      <th>AcceptedCmp3</th>\n      <th>AcceptedCmp4</th>\n      <th>AcceptedCmp5</th>\n      <th>AcceptedCmp1</th>\n      <th>AcceptedCmp2</th>\n      <th>Complain</th>\n      <th>Z_CostContact</th>\n      <th>Z_Revenue</th>\n    </tr>\n  </thead>\n  <tbody>\n    <tr>\n      <th>0</th>\n      <td>375</td>\n      <td>1954</td>\n      <td>Graduation</td>\n      <td>Divorced</td>\n      <td>76773.0</td>\n      <td>0</td>\n      <td>0</td>\n      <td>2013-02-25</td>\n      <td>79</td>\n      <td>516</td>\n      <td>...</td>\n      <td>11</td>\n      <td>1</td>\n      <td>0</td>\n      <td>0</td>\n      <td>0</td>\n      <td>0</td>\n      <td>0</td>\n      <td>0</td>\n      <td>3</td>\n      <td>11</td>\n    </tr>\n    <tr>\n      <th>1</th>\n      <td>922</td>\n      <td>1979</td>\n      <td>2n Cycle</td>\n      <td>Married</td>\n      <td>31086.0</td>\n      <td>1</td>\n      <td>1</td>\n      <td>2013-05-04</td>\n      <td>79</td>\n      <td>16</td>\n      <td>...</td>\n      <td>2</td>\n      <td>8</td>\n      <td>1</td>\n      <td>0</td>\n      <td>0</td>\n      <td>0</td>\n      <td>0</td>\n      <td>0</td>\n      <td>3</td>\n      <td>11</td>\n    </tr>\n    <tr>\n      <th>2</th>\n      <td>8147</td>\n      <td>1960</td>\n      <td>Graduation</td>\n      <td>Married</td>\n      <td>31454.0</td>\n      <td>1</td>\n      <td>1</td>\n      <td>2013-07-06</td>\n      <td>40</td>\n      <td>28</td>\n      <td>...</td>\n      <td>3</td>\n      <td>8</td>\n      <td>0</td>\n      <td>0</td>\n      <td>0</td>\n      <td>0</td>\n      <td>0</td>\n      <td>0</td>\n      <td>3</td>\n      <td>11</td>\n    </tr>\n    <tr>\n      <th>3</th>\n      <td>10675</td>\n      <td>1956</td>\n      <td>PhD</td>\n      <td>Married</td>\n      <td>66334.0</td>\n      <td>0</td>\n      <td>1</td>\n      <td>2013-04-03</td>\n      <td>82</td>\n      <td>909</td>\n      <td>...</td>\n      <td>5</td>\n      <td>5</td>\n      <td>0</td>\n      <td>0</td>\n      <td>0</td>\n      <td>0</td>\n      <td>0</td>\n      <td>0</td>\n      <td>3</td>\n      <td>11</td>\n    </tr>\n    <tr>\n      <th>4</th>\n      <td>2173</td>\n      <td>1952</td>\n      <td>Graduation</td>\n      <td>Widow</td>\n      <td>40049.0</td>\n      <td>0</td>\n      <td>1</td>\n      <td>2013-10-16</td>\n      <td>23</td>\n      <td>13</td>\n      <td>...</td>\n      <td>3</td>\n      <td>6</td>\n      <td>0</td>\n      <td>0</td>\n      <td>0</td>\n      <td>0</td>\n      <td>0</td>\n      <td>0</td>\n      <td>3</td>\n      <td>11</td>\n    </tr>\n  </tbody>\n</table>\n<p>5 rows × 28 columns</p>\n</div>"
          },
          "metadata": {}
        }
      ],
      "execution_count": 6,
      "metadata": {
        "jupyter": {
          "source_hidden": false,
          "outputs_hidden": false
        },
        "nteract": {
          "transient": {
            "deleting": false
          }
        },
        "gather": {
          "logged": 1704701612897
        }
      }
    },
    {
      "cell_type": "code",
      "source": [
        "predictions = deployment_client.predict(endpoint=endpoint_name, df={\"dataframe_split\": samples.to_dict(orient='split')})\n",
        "predictions"
      ],
      "outputs": [
        {
          "output_type": "execute_result",
          "execution_count": 8,
          "data": {
            "text/plain": "   0\n0  0\n1  0\n2  0\n3  1\n4  0",
            "text/html": "<div>\n<style scoped>\n    .dataframe tbody tr th:only-of-type {\n        vertical-align: middle;\n    }\n\n    .dataframe tbody tr th {\n        vertical-align: top;\n    }\n\n    .dataframe thead th {\n        text-align: right;\n    }\n</style>\n<table border=\"1\" class=\"dataframe\">\n  <thead>\n    <tr style=\"text-align: right;\">\n      <th></th>\n      <th>0</th>\n    </tr>\n  </thead>\n  <tbody>\n    <tr>\n      <th>0</th>\n      <td>0</td>\n    </tr>\n    <tr>\n      <th>1</th>\n      <td>0</td>\n    </tr>\n    <tr>\n      <th>2</th>\n      <td>0</td>\n    </tr>\n    <tr>\n      <th>3</th>\n      <td>1</td>\n    </tr>\n    <tr>\n      <th>4</th>\n      <td>0</td>\n    </tr>\n  </tbody>\n</table>\n</div>"
          },
          "metadata": {}
        }
      ],
      "execution_count": 8,
      "metadata": {
        "jupyter": {
          "source_hidden": false,
          "outputs_hidden": false
        },
        "nteract": {
          "transient": {
            "deleting": false
          }
        },
        "gather": {
          "logged": 1704701640975
        }
      }
    },
    {
      "cell_type": "code",
      "source": [],
      "outputs": [],
      "execution_count": null,
      "metadata": {
        "jupyter": {
          "source_hidden": false,
          "outputs_hidden": false
        },
        "nteract": {
          "transient": {
            "deleting": false
          }
        }
      }
    }
  ],
  "metadata": {
    "kernelspec": {
      "name": "python310-sdkv2",
      "language": "python",
      "display_name": "Python 3.10 - SDK v2"
    },
    "language_info": {
      "name": "python",
      "version": "3.10.11",
      "mimetype": "text/x-python",
      "codemirror_mode": {
        "name": "ipython",
        "version": 3
      },
      "pygments_lexer": "ipython3",
      "nbconvert_exporter": "python",
      "file_extension": ".py"
    },
    "microsoft": {
      "ms_spell_check": {
        "ms_spell_check_language": "en"
      },
      "host": {
        "AzureML": {
          "notebookHasBeenCompleted": true
        }
      }
    },
    "kernel_info": {
      "name": "python310-sdkv2"
    },
    "nteract": {
      "version": "nteract-front-end@1.0.0"
    }
  },
  "nbformat": 4,
  "nbformat_minor": 2
}